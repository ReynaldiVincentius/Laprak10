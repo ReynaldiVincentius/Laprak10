{
 "cells": [
  {
   "cell_type": "code",
   "execution_count": 3,
   "metadata": {},
   "outputs": [
    {
     "name": "stdout",
     "output_type": "stream",
     "text": [
      "Tiga nilai terbaik: [73, 69, 51]\n"
     ]
    }
   ],
   "source": [
    "nilai = [69, 51, 13, 73, 42] \n",
    "nilai.sort(reverse=True)      \n",
    "tiga_terbaik = nilai[:3]      \n",
    "\n",
    "print(\"Tiga nilai terbaik:\", tiga_terbaik)"
   ]
  },
  {
   "cell_type": "code",
   "execution_count": 5,
   "metadata": {},
   "outputs": [
    {
     "ename": "ValueError",
     "evalue": "could not convert string to float: 'done'",
     "output_type": "error",
     "traceback": [
      "\u001b[1;31m---------------------------------------------------------------------------\u001b[0m",
      "\u001b[1;31mValueError\u001b[0m                                Traceback (most recent call last)",
      "Cell \u001b[1;32mIn[5], line 1\u001b[0m\n\u001b[1;32m----> 1\u001b[0m angka \u001b[38;5;241m=\u001b[39m [\u001b[38;5;28;43mfloat\u001b[39;49m\u001b[43m(\u001b[49m\u001b[38;5;28;43minput\u001b[39;49m\u001b[43m(\u001b[49m\u001b[38;5;124;43m\"\u001b[39;49m\u001b[38;5;124;43mMasukkan angka (ketik \u001b[39;49m\u001b[38;5;124;43m'\u001b[39;49m\u001b[38;5;124;43mdone\u001b[39;49m\u001b[38;5;124;43m'\u001b[39;49m\u001b[38;5;124;43m untuk selesai): \u001b[39;49m\u001b[38;5;124;43m\"\u001b[39;49m\u001b[43m)\u001b[49m\u001b[43m)\u001b[49m \u001b[38;5;28;01mfor\u001b[39;00m _ \u001b[38;5;129;01min\u001b[39;00m \u001b[38;5;28miter\u001b[39m(\u001b[38;5;28minput\u001b[39m, \u001b[38;5;124m'\u001b[39m\u001b[38;5;124mdone\u001b[39m\u001b[38;5;124m'\u001b[39m)]\n\u001b[0;32m      3\u001b[0m \u001b[38;5;28;01mif\u001b[39;00m angka:\n\u001b[0;32m      4\u001b[0m     \u001b[38;5;28mprint\u001b[39m(\u001b[38;5;124m\"\u001b[39m\u001b[38;5;124mNilai maksimum:\u001b[39m\u001b[38;5;124m\"\u001b[39m, \u001b[38;5;28mmax\u001b[39m(angka))\n",
      "\u001b[1;31mValueError\u001b[0m: could not convert string to float: 'done'"
     ]
    }
   ],
   "source": [
    "angka = []\n",
    "while True:\n",
    "    masukan_user = input(\"Masukkan angka (atau 'done' untuk selesai): \")\n",
    "    if masukan_user == 'done':\n",
    "        break\n",
    "\n",
    "    try:\n",
    "        angka.append(float(masukan_user))\n",
    "    except ValueError:\n",
    "        print(\"Masukan tidak valid. Masukkan angka atau 'done'.\")\n",
    "\n",
    "if angka:\n",
    "    print(\"Nilai maksimum:\", max(angka))\n",
    "    print(\"Nilai minimum:\", min(angka))\n",
    "else:\n",
    "    print(\"Tidak ada angka yang dimasukkan.\")\n"
   ]
  },
  {
   "cell_type": "code",
   "execution_count": 2,
   "metadata": {},
   "outputs": [
    {
     "name": "stdout",
     "output_type": "stream",
     "text": [
      "======Isi Berita======\n",
      "Pada zaman Raja-raja Batak di Tapanuli,naniura menjadi makanan istimewa yang dihidangkan khusus untuk menjamu para raja. \n",
      "Hanya koki dan juru masak kerajaan yang boleh membuat naniura, sehingga kuliner ini terasa elit.\n",
      "Seiring perkembangan zaman semua orang ingin mencicipi makanan tersebut.\n",
      "Hal ini karena, rasanya unik, khas, dengan bumbu asli Batak, seperti andaliman. Kemudian, naniura dikenal luas oleh wisatawan domestik hingga wisatawan asing.\n",
      "Bahkan saat berkunjung ke daerah Sumatera Utara, naniura merupakan salah satu masakan yang dicari.\n",
      "\n",
      "=======Kata Unik Pada Berita========\n",
      "['pada', 'zaman', 'raja-raja', 'batak', 'di', 'tapanuli,naniura', 'menjadi', 'makanan', 'istimewa', 'yang', 'dihidangkan', 'khusus', 'untuk', 'menjamu', 'para', 'raja', 'hanya', 'koki', 'dan', 'juru', 'masak', 'kerajaan', 'boleh', 'membuat', 'naniura', 'sehingga', 'kuliner', 'ini', 'terasa', 'elit', 'seiring', 'perkembangan', 'semua', 'orang', 'ingin', 'mencicipi', 'tersebut', 'hal', 'karena', 'rasanya', 'unik', 'khas', 'dengan', 'bumbu', 'asli', 'seperti', 'andaliman', 'kemudian', 'dikenal', 'luas', 'oleh', 'wisatawan', 'domestik', 'hingga', 'asing', 'bahkan', 'saat', 'berkunjung', 'ke', 'daerah', 'sumatera', 'utara', 'merupakan', 'salah', 'satu', 'masakan', 'dicari']\n"
     ]
    }
   ],
   "source": [
    "buka = open(\"naniura.txt\", \"r\", encoding=\"utf-8\")\n",
    "bacabaris = buka.read()\n",
    "pisah = bacabaris.split(\".\")\n",
    "kataunik = []\n",
    "\n",
    "for i in pisah:\n",
    "    kata = i.strip().split()\n",
    "    for j in kata:\n",
    "        j = j.strip(\".,?!\\\"';:-\").lower()\n",
    "        if j not in kataunik:\n",
    "            kataunik.append(j)\n",
    "\n",
    "print(\"======Isi Berita======\")\n",
    "print(bacabaris)\n",
    "print(\"=======Kata Unik Pada Berita========\")\n",
    "print(kataunik)"
   ]
  }
 ],
 "metadata": {
  "kernelspec": {
   "display_name": "Python 3",
   "language": "python",
   "name": "python3"
  },
  "language_info": {
   "codemirror_mode": {
    "name": "ipython",
    "version": 3
   },
   "file_extension": ".py",
   "mimetype": "text/x-python",
   "name": "python",
   "nbconvert_exporter": "python",
   "pygments_lexer": "ipython3",
   "version": "3.12.0"
  }
 },
 "nbformat": 4,
 "nbformat_minor": 2
}
